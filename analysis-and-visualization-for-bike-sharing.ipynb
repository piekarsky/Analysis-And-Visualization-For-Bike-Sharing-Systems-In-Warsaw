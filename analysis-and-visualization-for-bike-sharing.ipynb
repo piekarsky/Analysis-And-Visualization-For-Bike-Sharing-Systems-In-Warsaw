{
 "cells": [
  {
   "cell_type": "markdown",
   "metadata": {},
   "source": [
    "## 1. Loading the data"
   ]
  },
  {
   "cell_type": "markdown",
   "metadata": {},
   "source": [
    "### 1.1. Loading libraries"
   ]
  },
  {
   "cell_type": "code",
   "execution_count": 8,
   "metadata": {},
   "outputs": [],
   "source": [
    "import pandas as pd\n",
    "import numpy as np\n",
    "import matplotlib.pyplot as plt \n",
    "import seaborn as sns\n",
    "import glob, os, json\n",
    "from pathlib import Path\n",
    "import time"
   ]
  },
  {
   "cell_type": "code",
   "execution_count": 9,
   "metadata": {},
   "outputs": [
    {
     "name": "stdout",
     "output_type": "stream",
     "text": [
      "--- 158.76451110839844 seconds ---\n"
     ]
    }
   ],
   "source": [
    "start_time = time.time()\n",
    "\n",
    "places = []\n",
    "\n",
    "for file in Path(\"C:\\\\Users\\\\Przem\\\\Code\\\\Analysis-And-Visualization-For-Bike-Sharing-Systems-In-Warsaw\\\\data\").glob(\"*.json\"):   # ścieżka dostępu do katalogu, gdzie przechowywane są pliki JSON\n",
    "\n",
    "    with open(file) as json_file:\n",
    "        data = json.load(json_file)\n",
    "\n",
    "    for result in data:\n",
    "        for place in result[\"places\"]:\n",
    "            place[\"date\"] = file.stem \n",
    "            places.append(place)\n",
    "\n",
    "df = pd.DataFrame(places)\n",
    "\n",
    "print(\"--- %s seconds ---\" % (time.time() - start_time))"
   ]
  },
  {
   "cell_type": "code",
   "execution_count": 10,
   "metadata": {},
   "outputs": [
    {
     "name": "stdout",
     "output_type": "stream",
     "text": [
      "(1478785, 16)\n",
      "Index(['uid', 'lat', 'lng', 'name', 'spot', 'number', 'bikes', 'bike_racks',\n",
      "       'free_racks', 'terminal_type', 'bike_numbers', 'bike_types',\n",
      "       'place_type', 'rack_locks', 'date', 'maintenance'],\n",
      "      dtype='object')\n"
     ]
    }
   ],
   "source": [
    "print(df.shape)\n",
    "print(df.columns)"
   ]
  },
  {
   "cell_type": "code",
   "execution_count": 11,
   "metadata": {},
   "outputs": [],
   "source": [
    "df_ = df.drop(df.columns[[4, 5, 9, 11, 12, 13, 15]], axis = 1)"
   ]
  },
  {
   "cell_type": "code",
   "execution_count": 12,
   "metadata": {},
   "outputs": [],
   "source": [
    "def data_preprocessing_1(df): # wstępne przetworzenie danych\n",
    "    \n",
    "# rozbicie nazw JSONów na rok, miesiąc, dzień, godzinę i minuty\n",
    "    df_ = pd.DataFrame({'year': df['date'].str[0:4],\n",
    "                     'month': df['date'].str[4:6],\n",
    "                     'day': df['date'].str[6:8],\n",
    "                     'hour': df['date'].str[9:11],\n",
    "                     'minutes': df['date'].str[11:13]})\n",
    "    df['date'] = pd.to_datetime(df_)  # stworzenie z powyższych \"części\" nazwy JSONów kolumny z datą\n",
    "    df['day_of_week'] = df['date'].dt.day_name() # stworzenie nowej kolumny z dniem tygodnia\n",
    "    df['city_code'] = '352200375' # kod stacji - w tym przypadku dla Warszawy\n",
    "    df['date_normalize'] = df['date'] \n",
    "    # stworzenie kolumny z datą w postaci Y-M-D\n",
    "    df['date_normalize'] = pd.to_datetime(df['date_normalize']).dt.strftime('%Y-%m-%d') \n",
    "    \n",
    "    return df"
   ]
  },
  {
   "cell_type": "code",
   "execution_count": 13,
   "metadata": {},
   "outputs": [],
   "source": [
    "def data_preprocessing_2(df):\n",
    "    df = df[df.date_normalize != '2018-04-02'] # wyrzucenie danych z 2018-04-02 (ponieważ w tym dniu dostępne są dane tylko do godziny 3:00)\n",
    "    df['bikes'] = df['bikes'].replace('?', np.nan).astype(float)  # wyrzucenie '?' z kolumny 'bikes'\n",
    "    df['bike_racks'] = pd.to_numeric(df['bike_racks'])  # przekonwertowanie kolumny z ilością stanowisk na stacji na wartości numeryczne\n",
    "    return df\n",
    "    "
   ]
  },
  {
   "cell_type": "code",
   "execution_count": 14,
   "metadata": {},
   "outputs": [
    {
     "name": "stderr",
     "output_type": "stream",
     "text": [
      "C:\\Users\\Przem\\Anaconda3\\lib\\site-packages\\ipykernel_launcher.py:3: SettingWithCopyWarning: \n",
      "A value is trying to be set on a copy of a slice from a DataFrame.\n",
      "Try using .loc[row_indexer,col_indexer] = value instead\n",
      "\n",
      "See the caveats in the documentation: http://pandas.pydata.org/pandas-docs/stable/user_guide/indexing.html#returning-a-view-versus-a-copy\n",
      "  This is separate from the ipykernel package so we can avoid doing imports until\n",
      "C:\\Users\\Przem\\Anaconda3\\lib\\site-packages\\ipykernel_launcher.py:4: SettingWithCopyWarning: \n",
      "A value is trying to be set on a copy of a slice from a DataFrame.\n",
      "Try using .loc[row_indexer,col_indexer] = value instead\n",
      "\n",
      "See the caveats in the documentation: http://pandas.pydata.org/pandas-docs/stable/user_guide/indexing.html#returning-a-view-versus-a-copy\n",
      "  after removing the cwd from sys.path.\n"
     ]
    }
   ],
   "source": [
    "data = data_preprocessing_1(df_)\n",
    "df = data_preprocessing_2(data)"
   ]
  },
  {
   "cell_type": "code",
   "execution_count": 15,
   "metadata": {},
   "outputs": [],
   "source": [
    "df_temp_march = pd.read_csv('B00300S_2018_03.csv') # wartości temperatur odnotowane dla marca 2018\n",
    "df_temp_april = pd.read_csv('B00300S_2018_04.csv') # wartości temperatur odnotowane dla kwietnia 2018"
   ]
  },
  {
   "cell_type": "code",
   "execution_count": 16,
   "metadata": {},
   "outputs": [
    {
     "data": {
      "text/html": [
       "<div>\n",
       "<style scoped>\n",
       "    .dataframe tbody tr th:only-of-type {\n",
       "        vertical-align: middle;\n",
       "    }\n",
       "\n",
       "    .dataframe tbody tr th {\n",
       "        vertical-align: top;\n",
       "    }\n",
       "\n",
       "    .dataframe thead th {\n",
       "        text-align: right;\n",
       "    }\n",
       "</style>\n",
       "<table border=\"1\" class=\"dataframe\">\n",
       "  <thead>\n",
       "    <tr style=\"text-align: right;\">\n",
       "      <th></th>\n",
       "      <th>249190890;B00300S;2018-03-01 00:00;-19</th>\n",
       "      <th>10;</th>\n",
       "    </tr>\n",
       "  </thead>\n",
       "  <tbody>\n",
       "    <tr>\n",
       "      <th>0</th>\n",
       "      <td>249190890;B00300S;2018-03-01 00:10;-19</td>\n",
       "      <td>40;</td>\n",
       "    </tr>\n",
       "    <tr>\n",
       "      <th>1</th>\n",
       "      <td>249190890;B00300S;2018-03-01 00:20;-19</td>\n",
       "      <td>20;</td>\n",
       "    </tr>\n",
       "    <tr>\n",
       "      <th>2</th>\n",
       "      <td>249190890;B00300S;2018-03-01 00:30;-19</td>\n",
       "      <td>20;</td>\n",
       "    </tr>\n",
       "  </tbody>\n",
       "</table>\n",
       "</div>"
      ],
      "text/plain": [
       "   249190890;B00300S;2018-03-01 00:00;-19  10;\n",
       "0  249190890;B00300S;2018-03-01 00:10;-19  40;\n",
       "1  249190890;B00300S;2018-03-01 00:20;-19  20;\n",
       "2  249190890;B00300S;2018-03-01 00:30;-19  20;"
      ]
     },
     "execution_count": 16,
     "metadata": {},
     "output_type": "execute_result"
    }
   ],
   "source": [
    "df_temp_march.head(3)"
   ]
  },
  {
   "cell_type": "code",
   "execution_count": 17,
   "metadata": {},
   "outputs": [],
   "source": [
    "df_temp_march = df_temp_march.fillna(0) \n",
    "df_temp_april = df_temp_april.fillna(0)\n",
    "\n",
    "temperature_march = df_temp_march.rename(columns={\"249190890;B00300S;2018-03-01 00:00;-19\": \"temp1\", \"10;\": \"temp2\"})\n",
    "temperature_april = df_temp_april.rename(columns={\"249190890;B00300S;2018-04-01 00:00;7\": \"temp1\", \"20;\": \"temp2\"})\n",
    "\n",
    "# rozdzielenie pierwszej kolumny na kod stacji i datę odczytu temperatury\n",
    "temperature_df = pd.DataFrame(columns = ['city_code', 'date'])\n",
    "temperature_df['date'] = temperature_march['temp1'].str[18:34]\n",
    "temperature_df['city_code'] = temperature_march['temp1'].str[0:9]"
   ]
  },
  {
   "cell_type": "code",
   "execution_count": 18,
   "metadata": {},
   "outputs": [],
   "source": [
    "total_temp = pd.DataFrame(columns = ['city_code', 'date', 'temperature']) \n",
    "total_temp['date'] = temperature_df['date'].append(temperature_april['temp1'].str[18:34], ignore_index = True)\n",
    "total_temp['city_code'] = temperature_df['city_code'].append(temperature_april['temp1'].str[0:9], ignore_index = True)"
   ]
  },
  {
   "cell_type": "code",
   "execution_count": 19,
   "metadata": {},
   "outputs": [],
   "source": [
    "# \"ekstrakcja\" z ramki danych roku, miesiaca, dnia, godziny i minuty\n",
    "cops = pd.DataFrame({'year': total_temp['date'].str[0:4],\n",
    "                 'month': total_temp['date'].str[5:7],\n",
    "                 'day': total_temp['date'].str[8:11],\n",
    "                 'hour': total_temp['date'].str[11:13],\n",
    "                 'minutes': total_temp['date'].str[14:17]})"
   ]
  },
  {
   "cell_type": "code",
   "execution_count": 20,
   "metadata": {},
   "outputs": [],
   "source": [
    "total_temp['date'] = pd.to_datetime(cops) # stworzenie kolummy z datą odczytu wartości temperatury"
   ]
  },
  {
   "cell_type": "code",
   "execution_count": 21,
   "metadata": {},
   "outputs": [],
   "source": [
    "# przekonwertowanie drugiej kolumny na str i \"wydobycie\" z niej części dziesiętnej\n",
    "temperature_march['temp2'] = temperature_march['temp2'].astype(str).str[0]  \n",
    "temperature_april['temp2'] = temperature_april['temp2'].astype(str).str[0]\n",
    "\n",
    "# \"wydobycie\" z pierwszej kolumny wartości jedności, bądź dziesiątek temperatur\n",
    "temperature_march['temp1'] = temperature_march['temp1'].str[35:]\n",
    "temperature_march['temp1'] = temperature_march['temp1'].replace(';','', regex=True)\n",
    "\n",
    "temperature_april['temp1'] = temperature_april['temp1'].str[35:]\n",
    "temperature_april['temp1'] = temperature_april['temp1'].replace(';','', regex=True)"
   ]
  },
  {
   "cell_type": "code",
   "execution_count": 22,
   "metadata": {},
   "outputs": [],
   "source": [
    "# połączenie częsci dziesiątek/jedności z pierwszej kolumny z częścią dziesiętną z drugiej kolumny\n",
    "new_temp1 = temperature_march['temp2'].copy()\n",
    "temperature_march['temp1'] = temperature_march['temp1'].str.cat(new_temp1, sep='.')\n",
    "temperature_march= temperature_march.drop(temperature_march.columns[[1]], axis=1)\n",
    "\n",
    "new_temp2 = temperature_april['temp2'].copy()\n",
    "temperature_april['temp1'] = temperature_april['temp1'].str.cat(new_temp2, sep='.')\n",
    "temperature_april= temperature_april.drop(temperature_april.columns[[1]], axis=1)"
   ]
  },
  {
   "cell_type": "code",
   "execution_count": 23,
   "metadata": {},
   "outputs": [],
   "source": [
    "temp_all = pd.concat([temperature_march, temperature_april])\n",
    "temp_all = temp_all.reset_index(drop=True) \n"
   ]
  },
  {
   "cell_type": "code",
   "execution_count": 24,
   "metadata": {},
   "outputs": [],
   "source": [
    "total_temp['temperature'] = temp_all"
   ]
  },
  {
   "cell_type": "code",
   "execution_count": 25,
   "metadata": {},
   "outputs": [],
   "source": [
    "df_ = pd.merge(df, total_temp, how='left', on=['date', 'city_code']) # dołączanie do głównej ramki danych informacji o temperaturze"
   ]
  },
  {
   "cell_type": "code",
   "execution_count": 26,
   "metadata": {},
   "outputs": [],
   "source": [
    "df_['temperature'] = pd.to_numeric(df_['temperature']) # zmiana typu danych kolumny z wartościami temp. z str na int"
   ]
  },
  {
   "cell_type": "code",
   "execution_count": null,
   "metadata": {},
   "outputs": [],
   "source": []
  }
 ],
 "metadata": {
  "kernelspec": {
   "display_name": "Python 3",
   "language": "python",
   "name": "python3"
  },
  "language_info": {
   "codemirror_mode": {
    "name": "ipython",
    "version": 3
   },
   "file_extension": ".py",
   "mimetype": "text/x-python",
   "name": "python",
   "nbconvert_exporter": "python",
   "pygments_lexer": "ipython3",
   "version": "3.7.3"
  }
 },
 "nbformat": 4,
 "nbformat_minor": 2
}
